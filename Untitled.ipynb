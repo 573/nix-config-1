{
 "cells": [
  {
   "cell_type": "code",
   "execution_count": null,
   "id": "0fe28a16-8ab2-451d-a75b-a91ad7e6b445",
   "metadata": {},
   "outputs": [],
   "source": []
  }
 ],
 "metadata": {
  "kernelspec": {
   "display_name": "Python3 - Python-env",
   "language": "python",
   "name": "ipython_python-env"
  },
  "language_info": {
   "codemirror_mode": {
    "name": "ipython",
    "version": 3
   },
   "file_extension": ".py",
   "mimetype": "text/x-python",
   "name": "python",
   "nbconvert_exporter": "python",
   "pygments_lexer": "ipython3",
   "version": "3.10.11"
  }
 },
 "nbformat": 4,
 "nbformat_minor": 5
}
